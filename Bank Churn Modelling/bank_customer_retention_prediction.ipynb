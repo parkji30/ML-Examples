{
 "cells": [
  {
   "cell_type": "code",
   "execution_count": 102,
   "metadata": {},
   "outputs": [],
   "source": [
    "import tensorflow as tf\n",
    "import pandas as pd\n",
    "import numpy as np\n",
    "import matplotlib.pyplot as plt\n",
    "import os\n",
    "os.chdir(\"C:/Users/16472/Desktop/Machine Learning/ANN\")"
   ]
  },
  {
   "cell_type": "code",
   "execution_count": 103,
   "metadata": {},
   "outputs": [
    {
     "data": {
      "text/plain": [
       "'2.3.1'"
      ]
     },
     "execution_count": 103,
     "metadata": {},
     "output_type": "execute_result"
    }
   ],
   "source": [
    "## Tensorflow Version\n",
    "tf.__version__"
   ]
  },
  {
   "cell_type": "markdown",
   "metadata": {},
   "source": [
    "# (Part 1) Load the Data"
   ]
  },
  {
   "cell_type": "code",
   "execution_count": 104,
   "metadata": {},
   "outputs": [],
   "source": [
    "dataset = pd.read_csv(\"Churn_Modelling.csv\")\n",
    "dataset\n",
    "x = dataset.iloc[:, 3:-1].values # select everything from columns indices (3 to end)\n",
    "y = dataset.iloc[:, -1].values"
   ]
  },
  {
   "cell_type": "code",
   "execution_count": 105,
   "metadata": {},
   "outputs": [
    {
     "name": "stdout",
     "output_type": "stream",
     "text": [
      "[[619 'France' 'Female' ... 1 1 101348.88]\n",
      " [608 'Spain' 'Female' ... 0 1 112542.58]\n",
      " [502 'France' 'Female' ... 1 0 113931.57]\n",
      " ...\n",
      " [709 'France' 'Female' ... 0 1 42085.58]\n",
      " [772 'Germany' 'Male' ... 1 0 92888.52]\n",
      " [792 'France' 'Female' ... 1 0 38190.78]]\n",
      "[1 0 1 ... 1 1 0]\n"
     ]
    }
   ],
   "source": [
    "print(x)\n",
    "print(y)"
   ]
  },
  {
   "cell_type": "code",
   "execution_count": 106,
   "metadata": {},
   "outputs": [],
   "source": [
    "from sklearn.preprocessing import LabelEncoder\n",
    "le = LabelEncoder()\n",
    "x[:, 2] = le.fit_transform(x[:, 2])"
   ]
  },
  {
   "cell_type": "markdown",
   "metadata": {},
   "source": [
    "### Change variable values betweens columns 0 and 2 to integer values"
   ]
  },
  {
   "cell_type": "code",
   "execution_count": 107,
   "metadata": {
    "scrolled": true
   },
   "outputs": [
    {
     "name": "stdout",
     "output_type": "stream",
     "text": [
      "[[619 'France' 0 ... 1 1 101348.88]\n",
      " [608 'Spain' 0 ... 0 1 112542.58]\n",
      " [502 'France' 0 ... 1 0 113931.57]\n",
      " ...\n",
      " [709 'France' 0 ... 0 1 42085.58]\n",
      " [772 'Germany' 1 ... 1 0 92888.52]\n",
      " [792 'France' 0 ... 1 0 38190.78]]\n"
     ]
    }
   ],
   "source": [
    "print(x) "
   ]
  },
  {
   "cell_type": "code",
   "execution_count": 108,
   "metadata": {},
   "outputs": [],
   "source": [
    "# One Hot encoding for geography\n",
    "from sklearn.compose import ColumnTransformer\n",
    "from sklearn.preprocessing import OneHotEncoder\n",
    "ct = ColumnTransformer(transformers=[('encoder', OneHotEncoder(), [1])], remainder='passthrough')\n",
    "x = np.array(ct.fit_transform(x))"
   ]
  },
  {
   "cell_type": "markdown",
   "metadata": {},
   "source": [
    "### One hot encoding\n",
    "\n",
    "So we typically use one hot encoding when we have more than one variable to apply to the training model."
   ]
  },
  {
   "cell_type": "code",
   "execution_count": 109,
   "metadata": {},
   "outputs": [
    {
     "name": "stdout",
     "output_type": "stream",
     "text": [
      "[[1.0 0.0 0.0 ... 1 1 101348.88]\n",
      " [0.0 0.0 1.0 ... 0 1 112542.58]\n",
      " [1.0 0.0 0.0 ... 1 0 113931.57]\n",
      " ...\n",
      " [1.0 0.0 0.0 ... 0 1 42085.58]\n",
      " [0.0 1.0 0.0 ... 1 0 92888.52]\n",
      " [1.0 0.0 0.0 ... 1 0 38190.78]]\n"
     ]
    }
   ],
   "source": [
    "print(x)"
   ]
  },
  {
   "cell_type": "markdown",
   "metadata": {},
   "source": [
    "### Splitting the dataset into the Training set and Test set"
   ]
  },
  {
   "cell_type": "code",
   "execution_count": 110,
   "metadata": {},
   "outputs": [],
   "source": [
    "from sklearn.model_selection import train_test_split\n",
    "X_train, X_test, y_train, y_test = train_test_split(x, y, test_size = 0.2, random_state = 0)"
   ]
  },
  {
   "cell_type": "code",
   "execution_count": 118,
   "metadata": {},
   "outputs": [
    {
     "name": "stdout",
     "output_type": "stream",
     "text": [
      "(8000, 12)\n",
      "(2000, 12)\n"
     ]
    }
   ],
   "source": [
    "print(X_train.shape)\n",
    "print(X_test.shape)"
   ]
  },
  {
   "cell_type": "markdown",
   "metadata": {},
   "source": [
    "### By specifying the train_size as 0.2, we aim to put 80% of the data into our training set, and the rest of the data into the test set. "
   ]
  },
  {
   "cell_type": "markdown",
   "metadata": {},
   "source": [
    "## Feature Scaling\n",
    "\n",
    "#### THE MOST IMPORTANT PART IN MACHINE LEARNING ALGORITHMS!!!\n",
    "\n",
    "e.g normalization, standardization"
   ]
  },
  {
   "cell_type": "code",
   "execution_count": 119,
   "metadata": {},
   "outputs": [],
   "source": [
    "from sklearn.preprocessing import StandardScaler\n",
    "sc = StandardScaler()\n",
    "X_train = sc.fit_transform(X_train)\n",
    "X_test = sc.transform(X_test)"
   ]
  },
  {
   "cell_type": "markdown",
   "metadata": {},
   "source": [
    "# (Step 2) Building the ANN"
   ]
  },
  {
   "cell_type": "code",
   "execution_count": 120,
   "metadata": {},
   "outputs": [],
   "source": [
    "ann = tf.keras.models.Sequential() # represents our artificial neural network"
   ]
  },
  {
   "cell_type": "code",
   "execution_count": 121,
   "metadata": {},
   "outputs": [],
   "source": [
    "# Adding the input layer and the first hidden layer\n",
    "# How do we know how many neurons (UNITS) that we want.\n",
    "# It's more of a guess.\n",
    "\n",
    "hidden_neurons = 6\n",
    "ann.add(tf.keras.layers.Dense(units=hidden_neurons, activation='relu')) # relu is a rectifier activation function"
   ]
  },
  {
   "cell_type": "code",
   "execution_count": 122,
   "metadata": {},
   "outputs": [],
   "source": [
    "# Add a second hidden layer.\n",
    "# We can have as many hidden layers as we want.\n",
    "hidden_neurons = 6\n",
    "ann.add(tf.keras.layers.Dense(units=hidden_neurons, activation='relu')) # relu is a rectifier activation function"
   ]
  },
  {
   "cell_type": "code",
   "execution_count": 123,
   "metadata": {},
   "outputs": [],
   "source": [
    "# Number of dimensions of the output (0 or 1. There 1 neuron.)\n",
    "# Sigmoid is the probability of it being a yes or a no. (0 or 1)\n",
    "# Sigmoid function predicts! Rather than giving a definitive yes or no.\n",
    "ann.add(tf.keras.layers.Dense(units=1, activation='sigmoid'))"
   ]
  },
  {
   "cell_type": "markdown",
   "metadata": {},
   "source": [
    "# (Step 3) Training the ANN\n",
    "\n",
    "Now we have created an \"artificial brain\"!\n",
    "\n",
    "Next step is to train our brain."
   ]
  },
  {
   "cell_type": "code",
   "execution_count": 135,
   "metadata": {},
   "outputs": [],
   "source": [
    "# adam optimizer is used for stochastic gradient descent.\n",
    "# loss parameter is binary_crosseentropy since we are looking at a binary outcome.\n",
    "# metrics\n",
    "\n",
    "ann.compile(optimizer = 'adam', loss = 'binary_crossentropy', metrics = ['accuracy'])"
   ]
  },
  {
   "cell_type": "code",
   "execution_count": 136,
   "metadata": {},
   "outputs": [
    {
     "name": "stdout",
     "output_type": "stream",
     "text": [
      "Epoch 1/100\n",
      "250/250 [==============================] - 0s 503us/step - loss: 0.3321 - accuracy: 0.8645\n",
      "Epoch 2/100\n",
      "250/250 [==============================] - 0s 491us/step - loss: 0.3315 - accuracy: 0.8621\n",
      "Epoch 3/100\n",
      "250/250 [==============================] - 0s 495us/step - loss: 0.3316 - accuracy: 0.8624\n",
      "Epoch 4/100\n",
      "250/250 [==============================] - 0s 507us/step - loss: 0.3313 - accuracy: 0.8629\n",
      "Epoch 5/100\n",
      "250/250 [==============================] - 0s 475us/step - loss: 0.3318 - accuracy: 0.8626\n",
      "Epoch 6/100\n",
      "250/250 [==============================] - 0s 519us/step - loss: 0.3309 - accuracy: 0.8637\n",
      "Epoch 7/100\n",
      "250/250 [==============================] - 0s 547us/step - loss: 0.3313 - accuracy: 0.8629\n",
      "Epoch 8/100\n",
      "250/250 [==============================] - 0s 512us/step - loss: 0.3312 - accuracy: 0.8644\n",
      "Epoch 9/100\n",
      "250/250 [==============================] - 0s 447us/step - loss: 0.3316 - accuracy: 0.8639\n",
      "Epoch 10/100\n",
      "250/250 [==============================] - 0s 446us/step - loss: 0.3307 - accuracy: 0.8626\n",
      "Epoch 11/100\n",
      "250/250 [==============================] - 0s 459us/step - loss: 0.3312 - accuracy: 0.8630\n",
      "Epoch 12/100\n",
      "250/250 [==============================] - 0s 454us/step - loss: 0.3311 - accuracy: 0.8630\n",
      "Epoch 13/100\n",
      "250/250 [==============================] - 0s 481us/step - loss: 0.3312 - accuracy: 0.8619\n",
      "Epoch 14/100\n",
      "250/250 [==============================] - 0s 475us/step - loss: 0.3312 - accuracy: 0.8625\n",
      "Epoch 15/100\n",
      "250/250 [==============================] - 0s 459us/step - loss: 0.3311 - accuracy: 0.8627\n",
      "Epoch 16/100\n",
      "250/250 [==============================] - 0s 471us/step - loss: 0.3313 - accuracy: 0.8639\n",
      "Epoch 17/100\n",
      "250/250 [==============================] - 0s 451us/step - loss: 0.3313 - accuracy: 0.8627\n",
      "Epoch 18/100\n",
      "250/250 [==============================] - 0s 459us/step - loss: 0.3306 - accuracy: 0.8626\n",
      "Epoch 19/100\n",
      "250/250 [==============================] - 0s 463us/step - loss: 0.3310 - accuracy: 0.8624\n",
      "Epoch 20/100\n",
      "250/250 [==============================] - 0s 447us/step - loss: 0.3309 - accuracy: 0.8629\n",
      "Epoch 21/100\n",
      "250/250 [==============================] - 0s 463us/step - loss: 0.3310 - accuracy: 0.8636\n",
      "Epoch 22/100\n",
      "250/250 [==============================] - 0s 485us/step - loss: 0.3307 - accuracy: 0.8627\n",
      "Epoch 23/100\n",
      "250/250 [==============================] - 0s 483us/step - loss: 0.3302 - accuracy: 0.8633\n",
      "Epoch 24/100\n",
      "250/250 [==============================] - 0s 479us/step - loss: 0.3307 - accuracy: 0.8631\n",
      "Epoch 25/100\n",
      "250/250 [==============================] - 0s 467us/step - loss: 0.3308 - accuracy: 0.8637\n",
      "Epoch 26/100\n",
      "250/250 [==============================] - 0s 471us/step - loss: 0.3302 - accuracy: 0.8620\n",
      "Epoch 27/100\n",
      "250/250 [==============================] - 0s 467us/step - loss: 0.3302 - accuracy: 0.8655\n",
      "Epoch 28/100\n",
      "250/250 [==============================] - 0s 443us/step - loss: 0.3304 - accuracy: 0.8635\n",
      "Epoch 29/100\n",
      "250/250 [==============================] - 0s 483us/step - loss: 0.3303 - accuracy: 0.8635\n",
      "Epoch 30/100\n",
      "250/250 [==============================] - 0s 447us/step - loss: 0.3303 - accuracy: 0.8649\n",
      "Epoch 31/100\n",
      "250/250 [==============================] - 0s 467us/step - loss: 0.3301 - accuracy: 0.8633\n",
      "Epoch 32/100\n",
      "250/250 [==============================] - 0s 475us/step - loss: 0.3298 - accuracy: 0.8643\n",
      "Epoch 33/100\n",
      "250/250 [==============================] - 0s 475us/step - loss: 0.3303 - accuracy: 0.8619\n",
      "Epoch 34/100\n",
      "250/250 [==============================] - 0s 471us/step - loss: 0.3300 - accuracy: 0.8646\n",
      "Epoch 35/100\n",
      "250/250 [==============================] - 0s 467us/step - loss: 0.3301 - accuracy: 0.8641\n",
      "Epoch 36/100\n",
      "250/250 [==============================] - 0s 463us/step - loss: 0.3302 - accuracy: 0.8634\n",
      "Epoch 37/100\n",
      "250/250 [==============================] - 0s 475us/step - loss: 0.3298 - accuracy: 0.8646\n",
      "Epoch 38/100\n",
      "250/250 [==============================] - 0s 467us/step - loss: 0.3300 - accuracy: 0.8627\n",
      "Epoch 39/100\n",
      "250/250 [==============================] - 0s 485us/step - loss: 0.3301 - accuracy: 0.8629\n",
      "Epoch 40/100\n",
      "250/250 [==============================] - 0s 491us/step - loss: 0.3299 - accuracy: 0.8631\n",
      "Epoch 41/100\n",
      "250/250 [==============================] - 0s 491us/step - loss: 0.3296 - accuracy: 0.8630\n",
      "Epoch 42/100\n",
      "250/250 [==============================] - 0s 471us/step - loss: 0.3299 - accuracy: 0.8627\n",
      "Epoch 43/100\n",
      "250/250 [==============================] - 0s 471us/step - loss: 0.3300 - accuracy: 0.8635\n",
      "Epoch 44/100\n",
      "250/250 [==============================] - 0s 487us/step - loss: 0.3297 - accuracy: 0.8622\n",
      "Epoch 45/100\n",
      "250/250 [==============================] - 0s 503us/step - loss: 0.3296 - accuracy: 0.8627\n",
      "Epoch 46/100\n",
      "250/250 [==============================] - 0s 471us/step - loss: 0.3298 - accuracy: 0.8631\n",
      "Epoch 47/100\n",
      "250/250 [==============================] - 0s 470us/step - loss: 0.3293 - accuracy: 0.8631\n",
      "Epoch 48/100\n",
      "250/250 [==============================] - 0s 503us/step - loss: 0.3299 - accuracy: 0.8630\n",
      "Epoch 49/100\n",
      "250/250 [==============================] - 0s 501us/step - loss: 0.3299 - accuracy: 0.8635\n",
      "Epoch 50/100\n",
      "250/250 [==============================] - 0s 478us/step - loss: 0.3299 - accuracy: 0.8625\n",
      "Epoch 51/100\n",
      "250/250 [==============================] - 0s 459us/step - loss: 0.3294 - accuracy: 0.8640\n",
      "Epoch 52/100\n",
      "250/250 [==============================] - 0s 487us/step - loss: 0.3296 - accuracy: 0.8633\n",
      "Epoch 53/100\n",
      "250/250 [==============================] - 0s 471us/step - loss: 0.3300 - accuracy: 0.8624\n",
      "Epoch 54/100\n",
      "250/250 [==============================] - 0s 499us/step - loss: 0.3293 - accuracy: 0.8637\n",
      "Epoch 55/100\n",
      "250/250 [==============================] - 0s 475us/step - loss: 0.3295 - accuracy: 0.8627\n",
      "Epoch 56/100\n",
      "250/250 [==============================] - 0s 463us/step - loss: 0.3296 - accuracy: 0.8634\n",
      "Epoch 57/100\n",
      "250/250 [==============================] - 0s 471us/step - loss: 0.3295 - accuracy: 0.8624\n",
      "Epoch 58/100\n",
      "250/250 [==============================] - 0s 451us/step - loss: 0.3294 - accuracy: 0.8635\n",
      "Epoch 59/100\n",
      "250/250 [==============================] - 0s 470us/step - loss: 0.3293 - accuracy: 0.8622\n",
      "Epoch 60/100\n",
      "250/250 [==============================] - 0s 475us/step - loss: 0.3293 - accuracy: 0.8643\n",
      "Epoch 61/100\n",
      "250/250 [==============================] - 0s 485us/step - loss: 0.3291 - accuracy: 0.8630\n",
      "Epoch 62/100\n",
      "250/250 [==============================] - 0s 476us/step - loss: 0.3297 - accuracy: 0.8629\n",
      "Epoch 63/100\n",
      "250/250 [==============================] - 0s 479us/step - loss: 0.3293 - accuracy: 0.8637\n",
      "Epoch 64/100\n",
      "250/250 [==============================] - 0s 471us/step - loss: 0.3295 - accuracy: 0.8640\n",
      "Epoch 65/100\n",
      "250/250 [==============================] - 0s 491us/step - loss: 0.3294 - accuracy: 0.8640\n",
      "Epoch 66/100\n",
      "250/250 [==============================] - 0s 483us/step - loss: 0.3292 - accuracy: 0.8635\n",
      "Epoch 67/100\n",
      "250/250 [==============================] - 0s 463us/step - loss: 0.3293 - accuracy: 0.8637\n",
      "Epoch 68/100\n",
      "250/250 [==============================] - 0s 447us/step - loss: 0.3293 - accuracy: 0.8621\n",
      "Epoch 69/100\n",
      "250/250 [==============================] - 0s 459us/step - loss: 0.3296 - accuracy: 0.8631\n",
      "Epoch 70/100\n",
      "250/250 [==============================] - 0s 447us/step - loss: 0.3291 - accuracy: 0.8624\n",
      "Epoch 71/100\n",
      "250/250 [==============================] - 0s 463us/step - loss: 0.3293 - accuracy: 0.8633\n",
      "Epoch 72/100\n",
      "250/250 [==============================] - 0s 437us/step - loss: 0.3289 - accuracy: 0.8640\n",
      "Epoch 73/100\n",
      "250/250 [==============================] - 0s 459us/step - loss: 0.3291 - accuracy: 0.8622\n",
      "Epoch 74/100\n",
      "250/250 [==============================] - 0s 455us/step - loss: 0.3290 - accuracy: 0.8636\n",
      "Epoch 75/100\n",
      "250/250 [==============================] - 0s 459us/step - loss: 0.3292 - accuracy: 0.8625\n",
      "Epoch 76/100\n",
      "250/250 [==============================] - 0s 443us/step - loss: 0.3290 - accuracy: 0.8624\n",
      "Epoch 77/100\n",
      "250/250 [==============================] - 0s 443us/step - loss: 0.3292 - accuracy: 0.8621\n",
      "Epoch 78/100\n",
      "250/250 [==============================] - 0s 475us/step - loss: 0.3291 - accuracy: 0.8627\n",
      "Epoch 79/100\n"
     ]
    },
    {
     "name": "stdout",
     "output_type": "stream",
     "text": [
      "250/250 [==============================] - 0s 491us/step - loss: 0.3290 - accuracy: 0.8631\n",
      "Epoch 80/100\n",
      "250/250 [==============================] - 0s 475us/step - loss: 0.3290 - accuracy: 0.8629\n",
      "Epoch 81/100\n",
      "250/250 [==============================] - 0s 491us/step - loss: 0.3292 - accuracy: 0.8626\n",
      "Epoch 82/100\n",
      "250/250 [==============================] - 0s 503us/step - loss: 0.3283 - accuracy: 0.8645\n",
      "Epoch 83/100\n",
      "250/250 [==============================] - 0s 489us/step - loss: 0.3291 - accuracy: 0.8630\n",
      "Epoch 84/100\n",
      "250/250 [==============================] - 0s 477us/step - loss: 0.3291 - accuracy: 0.8637\n",
      "Epoch 85/100\n",
      "250/250 [==============================] - 0s 467us/step - loss: 0.3290 - accuracy: 0.8622\n",
      "Epoch 86/100\n",
      "250/250 [==============================] - 0s 467us/step - loss: 0.3290 - accuracy: 0.8630\n",
      "Epoch 87/100\n",
      "250/250 [==============================] - 0s 455us/step - loss: 0.3289 - accuracy: 0.8634\n",
      "Epoch 88/100\n",
      "250/250 [==============================] - 0s 483us/step - loss: 0.3289 - accuracy: 0.8643\n",
      "Epoch 89/100\n",
      "250/250 [==============================] - 0s 455us/step - loss: 0.3287 - accuracy: 0.8636\n",
      "Epoch 90/100\n",
      "250/250 [==============================] - 0s 475us/step - loss: 0.3286 - accuracy: 0.8631\n",
      "Epoch 91/100\n",
      "250/250 [==============================] - 0s 467us/step - loss: 0.3289 - accuracy: 0.8622\n",
      "Epoch 92/100\n",
      "250/250 [==============================] - 0s 455us/step - loss: 0.3286 - accuracy: 0.8639\n",
      "Epoch 93/100\n",
      "250/250 [==============================] - 0s 471us/step - loss: 0.3288 - accuracy: 0.8631\n",
      "Epoch 94/100\n",
      "250/250 [==============================] - 0s 479us/step - loss: 0.3287 - accuracy: 0.8619\n",
      "Epoch 95/100\n",
      "250/250 [==============================] - 0s 471us/step - loss: 0.3288 - accuracy: 0.8631\n",
      "Epoch 96/100\n",
      "250/250 [==============================] - 0s 473us/step - loss: 0.3285 - accuracy: 0.8648\n",
      "Epoch 97/100\n",
      "250/250 [==============================] - 0s 474us/step - loss: 0.3284 - accuracy: 0.8641\n",
      "Epoch 98/100\n",
      "250/250 [==============================] - 0s 467us/step - loss: 0.3290 - accuracy: 0.8643\n",
      "Epoch 99/100\n",
      "250/250 [==============================] - 0s 441us/step - loss: 0.3288 - accuracy: 0.8629\n",
      "Epoch 100/100\n",
      "250/250 [==============================] - 0s 502us/step - loss: 0.3283 - accuracy: 0.8649\n"
     ]
    },
    {
     "data": {
      "text/plain": [
       "<tensorflow.python.keras.callbacks.History at 0x1ccc7e3c0c8>"
      ]
     },
     "execution_count": 136,
     "metadata": {},
     "output_type": "execute_result"
    }
   ],
   "source": [
    "# Where we are training the dataset on the ANN\n",
    "\n",
    "ann.fit(X_train, y_train, batch_size=32, epochs=100)"
   ]
  },
  {
   "cell_type": "markdown",
   "metadata": {},
   "source": [
    "The <b>batch size</b> is a hyperparameter that defines the number of samples to work through before updating the internal model parameters.\n",
    "\n",
    "The <b>number of epochs</b> is a hyperparameter that defines the number times that the learning algorithm will work through the entire training dataset.\n",
    "\n",
    "\n",
    "The batch size is a number of samples processed before the model is updated.\n",
    "The number of epochs is the number of complete passes through the training dataset.\n",
    "\n",
    "There are no magic rules for how to configure these parameters. You must try different values and see what works best for your problem."
   ]
  },
  {
   "cell_type": "markdown",
   "metadata": {},
   "source": [
    "# Worked Example\n",
    "Finally, let’s make this concrete with a small example.\n",
    "\n",
    "Assume you have a dataset with 200 samples (rows of data) and you choose a batch size of 5 and 1,000 epochs.\n",
    "\n",
    "This means that the dataset will be divided into 40 batches, each with five samples. The model weights will be updated after each batch of five samples.\n",
    "\n",
    "This also means that one epoch will involve 40 batches or 40 updates to the model.\n",
    "\n",
    "With 1,000 epochs, the model will be exposed to or pass through the whole dataset 1,000 times. That is a total of 40,000 batches during the entire training process."
   ]
  },
  {
   "cell_type": "markdown",
   "metadata": {},
   "source": [
    "# (Part 4) Testing our Hypothesis\n",
    "\n",
    "Use our ANN model to predict if the customer with the following informations will leave the bank: \n",
    "\n",
    "Geography: France\n",
    "\n",
    "Credit Score: 600\n",
    "\n",
    "Gender: Male\n",
    "\n",
    "Age: 40 years old\n",
    "\n",
    "Tenure: 3 years\n",
    "\n",
    "Balance: \\$ 60000\n",
    "\n",
    "Number of Products: 2\n",
    "\n",
    "Does this customer have a credit card? Yes\n",
    "\n",
    "Is this customer an Active Member: Yes\n",
    "\n",
    "Estimated Salary: \\$ 50000\n",
    "\n",
    "So, should we say goodbye to that customer?"
   ]
  },
  {
   "cell_type": "code",
   "execution_count": 143,
   "metadata": {},
   "outputs": [
    {
     "name": "stdout",
     "output_type": "stream",
     "text": [
      "[[0.04288873]]\n"
     ]
    }
   ],
   "source": [
    "# We have to scale the prediction values using sc.transform\n",
    "\n",
    "print(ann.predict(sc.transform([[1, 0, 0, 600, 1, 40, 3, 60000, 2, 1, 1, 50000]])))"
   ]
  },
  {
   "cell_type": "markdown",
   "metadata": {},
   "source": [
    "Our model predicts that the customer will stay!\n",
    "\n",
    "<em>Based on our given data</em>"
   ]
  },
  {
   "cell_type": "code",
   "execution_count": 150,
   "metadata": {},
   "outputs": [
    {
     "name": "stdout",
     "output_type": "stream",
     "text": [
      "[[0 0]\n",
      " [0 1]\n",
      " [0 0]\n",
      " ...\n",
      " [0 0]\n",
      " [0 0]\n",
      " [0 0]]\n"
     ]
    }
   ],
   "source": [
    "y_pred = ann.predict(X_test)\n",
    "y_pred = y_pred > 0.5\n",
    "print(np.concatenate((y_pred.reshape(len(y_pred),1), y_test.reshape(len(y_test),1)),1))\n",
    "\n",
    "# y pred is our prediction if the customer stays or leaves.\n",
    "# y test is the true value for whether the customer stays or leaves. "
   ]
  },
  {
   "cell_type": "code",
   "execution_count": 151,
   "metadata": {},
   "outputs": [
    {
     "name": "stdout",
     "output_type": "stream",
     "text": [
      "[[1521   74]\n",
      " [ 206  199]]\n"
     ]
    },
    {
     "data": {
      "text/plain": [
       "0.86"
      ]
     },
     "execution_count": 151,
     "metadata": {},
     "output_type": "execute_result"
    }
   ],
   "source": [
    "from sklearn.metrics import confusion_matrix, accuracy_score\n",
    "cm = confusion_matrix(y_test, y_pred)\n",
    "print(cm)\n",
    "accuracy_score(y_test, y_pred)"
   ]
  },
  {
   "cell_type": "code",
   "execution_count": null,
   "metadata": {},
   "outputs": [],
   "source": []
  }
 ],
 "metadata": {
  "kernelspec": {
   "display_name": "Python 3",
   "language": "python",
   "name": "python3"
  },
  "language_info": {
   "codemirror_mode": {
    "name": "ipython",
    "version": 3
   },
   "file_extension": ".py",
   "mimetype": "text/x-python",
   "name": "python",
   "nbconvert_exporter": "python",
   "pygments_lexer": "ipython3",
   "version": "3.7.6"
  }
 },
 "nbformat": 4,
 "nbformat_minor": 4
}
